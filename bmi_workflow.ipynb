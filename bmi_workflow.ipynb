{
 "cells": [
  {
   "cell_type": "code",
   "execution_count": 6,
   "id": "2cc75c08",
   "metadata": {},
   "outputs": [],
   "source": [
    "from langgraph.graph import StateGraph, START, END\n",
    "from typing import TypedDict"
   ]
  },
  {
   "cell_type": "code",
   "execution_count": 7,
   "id": "514822bd",
   "metadata": {},
   "outputs": [],
   "source": [
    "#define state\n",
    "class BMIState(TypedDict):\n",
    "    \n",
    "    weigth_kg: float\n",
    "    height_m: float\n",
    "    bmi: float"
   ]
  },
  {
   "cell_type": "code",
   "execution_count": 8,
   "id": "181e9b13",
   "metadata": {},
   "outputs": [],
   "source": [
    "def calculate_bmi(state: BMIState) -> BMIState:\n",
    "    weight_kg = state['weigth_kg']\n",
    "    height_m = state['height_m']\n",
    "    bmi = weight_kg / (height_m ** 2)\n",
    "    state['bmi'] = round(bmi, 2)\n",
    "    return state"
   ]
  },
  {
   "cell_type": "code",
   "execution_count": 10,
   "id": "7d9c579b",
   "metadata": {},
   "outputs": [],
   "source": [
    "# define graph\n",
    "bmi_graph = StateGraph(BMIState)\n",
    "\n",
    "# add node\n",
    "bmi_graph.add_node('calculate_bmi',calculate_bmi)\n",
    "\n",
    "# add edges to your graph\n",
    "bmi_graph.add_edge(START, 'calculate_bmi')\n",
    "bmi_graph.add_edge('calculate_bmi', END)\n",
    "\n",
    "#compile graph\n",
    "workflow = bmi_graph.compile()\n"
   ]
  },
  {
   "cell_type": "code",
   "execution_count": null,
   "id": "708161f8",
   "metadata": {},
   "outputs": [],
   "source": []
  }
 ],
 "metadata": {
  "kernelspec": {
   "display_name": "langgraph",
   "language": "python",
   "name": "python3"
  },
  "language_info": {
   "codemirror_mode": {
    "name": "ipython",
    "version": 3
   },
   "file_extension": ".py",
   "mimetype": "text/x-python",
   "name": "python",
   "nbconvert_exporter": "python",
   "pygments_lexer": "ipython3",
   "version": "3.10.12"
  }
 },
 "nbformat": 4,
 "nbformat_minor": 5
}
