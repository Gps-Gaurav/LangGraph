{
 "cells": [
  {
   "cell_type": "code",
   "execution_count": 6,
   "id": "2cc75c08",
   "metadata": {},
   "outputs": [],
   "source": [
    "from langgraph.graph import StateGraph, START, END\n",
    "from typing import TypedDict"
   ]
  },
  {
   "cell_type": "code",
   "execution_count": 14,
   "id": "514822bd",
   "metadata": {},
   "outputs": [],
   "source": [
    "#define state\n",
    "class BMIState(TypedDict):\n",
    "    \n",
    "    weigth_kg: float\n",
    "    height_m: float\n",
    "    bmi: float\n",
    "    category: str"
   ]
  },
  {
   "cell_type": "code",
   "execution_count": 8,
   "id": "181e9b13",
   "metadata": {},
   "outputs": [],
   "source": [
    "def calculate_bmi(state: BMIState) -> BMIState:\n",
    "    weight_kg = state['weigth_kg']\n",
    "    height_m = state['height_m']\n",
    "    bmi = weight_kg / (height_m ** 2)\n",
    "    state['bmi'] = round(bmi, 2)\n",
    "    return state"
   ]
  },
  {
   "cell_type": "code",
   "execution_count": 15,
   "id": "75edf2a8",
   "metadata": {},
   "outputs": [],
   "source": [
    "def level_bmi(state: BMIState) -> BMIState:\n",
    "    bmi = state['bmi']\n",
    "    if bmi < 18.5:\n",
    "        category = 'Underweight'\n",
    "    elif 18.5 <= bmi < 24.9:\n",
    "        category = 'Normal weight'\n",
    "    elif 25 <= bmi < 29.9:\n",
    "        category = 'Overweight'\n",
    "    else:\n",
    "        category = 'Obesity'\n",
    "    state['category'] = category\n",
    "    return state"
   ]
  },
  {
   "cell_type": "code",
   "execution_count": 16,
   "id": "7d9c579b",
   "metadata": {},
   "outputs": [],
   "source": [
    "# define graph\n",
    "bmi_graph = StateGraph(BMIState)\n",
    "\n",
    "# add node\n",
    "bmi_graph.add_node('calculate_bmi',calculate_bmi)\n",
    "bmi_graph.add_node('level_bmi',level_bmi)\n",
    "\n",
    "# add edges to your graph\n",
    "bmi_graph.add_edge(START, 'calculate_bmi')\n",
    "bmi_graph.add_edge('calculate_bmi', 'level_bmi')\n",
    "bmi_graph.add_edge('level_bmi', END)\n",
    "\n",
    "\n",
    "#compile graph\n",
    "workflow = bmi_graph.compile()\n"
   ]
  },
  {
   "cell_type": "code",
   "execution_count": 17,
   "id": "708161f8",
   "metadata": {},
   "outputs": [
    {
     "name": "stdout",
     "output_type": "stream",
     "text": [
      "{'weigth_kg': 90, 'height_m': 1.82, 'bmi': 27.17, 'category': 'Overweight'}\n"
     ]
    }
   ],
   "source": [
    "# execute graph\n",
    "initial_state = {'weigth_kg': 90,'height_m': 1.82}\n",
    "final_state = workflow.invoke(initial_state)\n",
    "\n",
    "print(final_state)  \n"
   ]
  },
  {
   "cell_type": "code",
   "execution_count": null,
   "id": "2c8f2755",
   "metadata": {},
   "outputs": [],
   "source": [
    "from IPython.display import Image\n",
    "Image(workflow.get_graph().draw_mermaid_png())\n"
   ]
  },
  {
   "cell_type": "code",
   "execution_count": null,
   "id": "d5c524ce",
   "metadata": {},
   "outputs": [],
   "source": []
  }
 ],
 "metadata": {
  "kernelspec": {
   "display_name": "langgraph",
   "language": "python",
   "name": "python3"
  },
  "language_info": {
   "codemirror_mode": {
    "name": "ipython",
    "version": 3
   },
   "file_extension": ".py",
   "mimetype": "text/x-python",
   "name": "python",
   "nbconvert_exporter": "python",
   "pygments_lexer": "ipython3",
   "version": "3.10.12"
  }
 },
 "nbformat": 4,
 "nbformat_minor": 5
}
