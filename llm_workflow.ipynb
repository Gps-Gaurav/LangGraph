{
 "cells": [
  {
   "cell_type": "code",
   "execution_count": null,
   "id": "5b352924",
   "metadata": {},
   "outputs": [],
   "source": [
    "from langchain_openai import ChatOpenAI\n",
    "from langgraph.graph import StateGraph, START, END\n",
    "from typing import TypedDict\n",
    "from dotenv import load_dotenv"
   ]
  },
  {
   "cell_type": "code",
   "execution_count": null,
   "id": "41a2ab4c",
   "metadata": {},
   "outputs": [],
   "source": [
    "load_dotenv()"
   ]
  },
  {
   "cell_type": "code",
   "execution_count": null,
   "id": "906ec606",
   "metadata": {},
   "outputs": [],
   "source": [
    "model = ChatOpenAI()"
   ]
  },
  {
   "cell_type": "code",
   "execution_count": null,
   "id": "42509c21",
   "metadata": {},
   "outputs": [],
   "source": [
    "# create a state\n",
    "class LLMState(TypedDict):\n",
    "    question: str\n",
    "    answer: str"
   ]
  },
  {
   "cell_type": "code",
   "execution_count": null,
   "id": "f73f0af0",
   "metadata": {},
   "outputs": [],
   "source": [
    "def llm_QA(state: LLMState) -> LLMState:\n",
    "    \n",
    "    # extract the question from the state\n",
    "    question = state[\"question\"]\n",
    "    \n",
    "    # form a prompt\n",
    "    prompt = f'answer the question: {question}'\n",
    "    \n",
    "    # ask the question from the model\n",
    "    answer = model.invoke(prompt).content\n",
    "    \n",
    "    # update the answer in the state\n",
    "    state[\"answer\"] = answer\n",
    "    return state\n",
    "    "
   ]
  },
  {
   "cell_type": "code",
   "execution_count": null,
   "id": "8d0b6817",
   "metadata": {},
   "outputs": [],
   "source": [
    "# create a graph\n",
    "graph = StateGraph(LLMState)\n",
    "\n",
    "# add nodes\n",
    "graph.add_node('llm_qa',llm_QA)\n",
    "\n",
    "# add edges\n",
    "graph.add_edge(START, 'llm_qa')\n",
    "graph.add_edge('llm_qa', END)\n",
    "\n",
    "\n",
    "#compile the workflow\n",
    "workflow = graph.compile()"
   ]
  },
  {
   "cell_type": "code",
   "execution_count": null,
   "id": "775a5de4",
   "metadata": {},
   "outputs": [],
   "source": [
    "# execute\n",
    "initial_state = {'question': 'What is the capital of India?'}\n",
    "final_state = workflow.invoke(initial_state)\n",
    "\n",
    "print(final_state['answer'])"
   ]
  },
  {
   "cell_type": "code",
   "execution_count": null,
   "id": "e7288ac8",
   "metadata": {},
   "outputs": [],
   "source": []
  }
 ],
 "metadata": {
  "kernelspec": {
   "display_name": "langgraph",
   "language": "python",
   "name": "python3"
  },
  "language_info": {
   "codemirror_mode": {
    "name": "ipython",
    "version": 3
   },
   "file_extension": ".py",
   "mimetype": "text/x-python",
   "name": "python",
   "nbconvert_exporter": "python",
   "pygments_lexer": "ipython3",
   "version": "3.10.12"
  }
 },
 "nbformat": 4,
 "nbformat_minor": 5
}
